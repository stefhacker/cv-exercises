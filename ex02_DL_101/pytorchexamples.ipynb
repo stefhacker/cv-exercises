{
 "cells": [
  {
   "cell_type": "code",
   "execution_count": 2,
   "metadata": {},
   "outputs": [],
   "source": [
    "import torch\n",
    "from torch import nn\n",
    "from torch.utils.data import DataLoader\n",
    "from torchvision import datasets\n",
    "from torchvision.transforms import ToTensor"
   ]
  },
  {
   "cell_type": "code",
   "execution_count": 3,
   "metadata": {},
   "outputs": [],
   "source": [
    "training_data = datasets.FashionMNIST(\n",
    "    root=\"data\",\n",
    "    train=True,\n",
    "    download=True,\n",
    "    transform=ToTensor(),\n",
    ")\n",
    "\n",
    "\n",
    "test_data = datasets.FashionMNIST(\n",
    "    root=\"data\",\n",
    "    train=False,\n",
    "    download=True,\n",
    "    transform=ToTensor(),\n",
    ")"
   ]
  },
  {
   "cell_type": "code",
   "execution_count": 4,
   "metadata": {},
   "outputs": [
    {
     "name": "stdout",
     "output_type": "stream",
     "text": [
      "Shape of X [N, C, H, W]: torch.Size([64, 1, 28, 28])\n",
      "Shape of y: torch.Size([64]) torch.int64\n"
     ]
    }
   ],
   "source": [
    "batch_size = 64\n",
    "\n",
    "# Create data loaders.\n",
    "train_dataloader = DataLoader(training_data, batch_size=batch_size)\n",
    "test_dataloader = DataLoader(test_data, batch_size=batch_size)\n",
    "\n",
    "for X, y in test_dataloader:\n",
    "    print(f\"Shape of X [N, C, H, W]: {X.shape}\") #X are the images C corresponsin to the channels (here 1 this means greyscale)\n",
    "    print(f\"Shape of y: {y.shape} {y.dtype}\") #y are the 64 labels\n",
    "    break"
   ]
  },
  {
   "cell_type": "code",
   "execution_count": 5,
   "metadata": {},
   "outputs": [
    {
     "name": "stdout",
     "output_type": "stream",
     "text": [
      "Using cuda device\n",
      "NeuralNetwork(\n",
      "  (flatten): Flatten(start_dim=1, end_dim=-1)\n",
      "  (linear_relu_stack): Sequential(\n",
      "    (0): Linear(in_features=784, out_features=512, bias=True)\n",
      "    (1): ReLU()\n",
      "    (2): Linear(in_features=512, out_features=512, bias=True)\n",
      "    (3): ReLU()\n",
      "    (4): Linear(in_features=512, out_features=10, bias=True)\n",
      "  )\n",
      ")\n"
     ]
    }
   ],
   "source": [
    "device = ( \"cuda\" if torch.cuda.is_available() else \"cpu\")\n",
    "print(f\"Using {device} device\")\n",
    "\n",
    "# Define model, class inherits forom nn.Module\n",
    "class NeuralNetwork(nn.Module):\n",
    "    def __init__(self):\n",
    "        super().__init__() #initialize its superclass nn.Module\n",
    "        self.flatten = nn.Flatten() #reshapes (1, 28, 28) to (784,)\n",
    "        self.linear_relu_stack = nn.Sequential(\n",
    "            nn.Linear(28*28, 512),\n",
    "            nn.ReLU(),\n",
    "            nn.Linear(512, 512),\n",
    "            nn.ReLU(),\n",
    "            nn.Linear(512, 10)\n",
    "        )\n",
    "\n",
    "    def forward(self, x):\n",
    "        x = self.flatten(x)\n",
    "        logits = self.linear_relu_stack(x)\n",
    "        return logits\n",
    "\n",
    "model = NeuralNetwork().to(device)\n",
    "print(model)"
   ]
  },
  {
   "cell_type": "code",
   "execution_count": 6,
   "metadata": {},
   "outputs": [],
   "source": [
    "loss_fn = nn.CrossEntropyLoss()\n",
    "optimizer = torch.optim.SGD(model.parameters(),lr=1e-3)"
   ]
  },
  {
   "cell_type": "code",
   "execution_count": 7,
   "metadata": {},
   "outputs": [],
   "source": [
    "def train(dataloader, model, loss_fn, optimizer):\n",
    "    size = len(dataloader.dataset)\n",
    "    model.train()\n",
    "    for batch, (X, y) in enumerate(dataloader):\n",
    "        X, y = X.to(device), y.to(device)\n",
    "\n",
    "        # Compute prediction error\n",
    "        pred = model(X)\n",
    "        loss = loss_fn(pred, y)\n",
    "\n",
    "        # Backpropagation\n",
    "        loss.backward()\n",
    "        optimizer.step()\n",
    "        optimizer.zero_grad()\n",
    "\n",
    "        if batch % 100 == 0:\n",
    "            loss, current = loss.item(), (batch + 1) * len(X)\n",
    "            print(f\"loss: {loss:>7f}  [{current:>5d}/{size:>5d}]\")"
   ]
  },
  {
   "cell_type": "code",
   "execution_count": null,
   "metadata": {},
   "outputs": [],
   "source": [
    "def test(dataloader, model, loss_fn):\n",
    "    size = len(dataloader.dataset)\n",
    "    num_batches = len(dataloader)\n",
    "    model.eval()\n",
    "    test_loss, correct = 0, 0\n",
    "    with torch.no_grad(): #disables gradient computation\n",
    "        for X, y in dataloader:\n",
    "            X, y = X.to(device), y.to(device)\n",
    "            pred = model(X)\n",
    "            test_loss += loss_fn(pred, y).item()\n",
    "            correct += (pred.argmax(1) == y).type(torch.float).sum().item()\n",
    "    test_loss /= num_batches\n",
    "    correct /= size\n",
    "    print(f\"Test Error: \\n Accuracy: {(100*correct):>0.1f}%, Avg loss: {test_loss:>8f} \\n\")"
   ]
  },
  {
   "cell_type": "code",
   "execution_count": 9,
   "metadata": {},
   "outputs": [
    {
     "name": "stdout",
     "output_type": "stream",
     "text": [
      "Epoch 1\n",
      "-------------------------------\n",
      "loss: 2.286653  [   64/60000]\n",
      "loss: 2.276192  [ 6464/60000]\n",
      "loss: 2.252327  [12864/60000]\n",
      "loss: 2.253839  [19264/60000]\n",
      "loss: 2.236441  [25664/60000]\n",
      "loss: 2.208475  [32064/60000]\n",
      "loss: 2.220511  [38464/60000]\n",
      "loss: 2.175694  [44864/60000]\n",
      "loss: 2.164979  [51264/60000]\n",
      "loss: 2.153354  [57664/60000]\n",
      "Test Error: \n",
      " Accuracy: 40.4%, Avg loss: 2.131536 \n",
      "\n",
      "Epoch 2\n",
      "-------------------------------\n",
      "loss: 2.132707  [   64/60000]\n",
      "loss: 2.123711  [ 6464/60000]\n",
      "loss: 2.058680  [12864/60000]\n",
      "loss: 2.085600  [19264/60000]\n",
      "loss: 2.034278  [25664/60000]\n",
      "loss: 1.972026  [32064/60000]\n",
      "loss: 2.001269  [38464/60000]\n",
      "loss: 1.907214  [44864/60000]\n",
      "loss: 1.908077  [51264/60000]\n",
      "loss: 1.858829  [57664/60000]\n",
      "Test Error: \n",
      " Accuracy: 59.9%, Avg loss: 1.840730 \n",
      "\n",
      "Epoch 3\n",
      "-------------------------------\n",
      "loss: 1.863408  [   64/60000]\n",
      "loss: 1.841869  [ 6464/60000]\n",
      "loss: 1.712652  [12864/60000]\n",
      "loss: 1.768564  [19264/60000]\n",
      "loss: 1.662127  [25664/60000]\n",
      "loss: 1.615287  [32064/60000]\n",
      "loss: 1.635986  [38464/60000]\n",
      "loss: 1.528887  [44864/60000]\n",
      "loss: 1.555725  [51264/60000]\n",
      "loss: 1.470609  [57664/60000]\n",
      "Test Error: \n",
      " Accuracy: 62.4%, Avg loss: 1.480404 \n",
      "\n",
      "Epoch 4\n",
      "-------------------------------\n",
      "loss: 1.533596  [   64/60000]\n",
      "loss: 1.520927  [ 6464/60000]\n",
      "loss: 1.362279  [12864/60000]\n",
      "loss: 1.442328  [19264/60000]\n",
      "loss: 1.329942  [25664/60000]\n",
      "loss: 1.325943  [32064/60000]\n",
      "loss: 1.334430  [38464/60000]\n",
      "loss: 1.254896  [44864/60000]\n",
      "loss: 1.294422  [51264/60000]\n",
      "loss: 1.209954  [57664/60000]\n",
      "Test Error: \n",
      " Accuracy: 63.6%, Avg loss: 1.230455 \n",
      "\n",
      "Epoch 5\n",
      "-------------------------------\n",
      "loss: 1.291665  [   64/60000]\n",
      "loss: 1.298046  [ 6464/60000]\n",
      "loss: 1.125522  [12864/60000]\n",
      "loss: 1.232659  [19264/60000]\n",
      "loss: 1.111097  [25664/60000]\n",
      "loss: 1.135568  [32064/60000]\n",
      "loss: 1.151287  [38464/60000]\n",
      "loss: 1.084071  [44864/60000]\n",
      "loss: 1.130319  [51264/60000]\n",
      "loss: 1.056960  [57664/60000]\n",
      "Test Error: \n",
      " Accuracy: 64.8%, Avg loss: 1.073248 \n",
      "\n",
      "Done!\n"
     ]
    }
   ],
   "source": [
    "epochs = 5\n",
    "for t in range(epochs):\n",
    "    print(f\"Epoch {t+1}\\n-------------------------------\")\n",
    "    train(train_dataloader, model, loss_fn, optimizer)\n",
    "    test(test_dataloader, model, loss_fn)\n",
    "print(\"Done!\")"
   ]
  }
 ],
 "metadata": {
  "kernelspec": {
   "display_name": "Python 3",
   "language": "python",
   "name": "python3"
  },
  "language_info": {
   "codemirror_mode": {
    "name": "ipython",
    "version": 3
   },
   "file_extension": ".py",
   "mimetype": "text/x-python",
   "name": "python",
   "nbconvert_exporter": "python",
   "pygments_lexer": "ipython3",
   "version": "3.9.2"
  }
 },
 "nbformat": 4,
 "nbformat_minor": 2
}
