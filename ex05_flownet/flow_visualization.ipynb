{
 "cells": [
  {
   "cell_type": "markdown",
   "id": "0060c46b",
   "metadata": {},
   "source": [
    "# Flow Visualization"
   ]
  },
  {
   "cell_type": "code",
   "execution_count": null,
   "id": "1687d140",
   "metadata": {},
   "outputs": [],
   "source": [
    "from copy import deepcopy\n",
    "import random\n",
    "\n",
    "from matplotlib import pyplot as plt\n",
    "from mpl_toolkits.axes_grid1 import make_axes_locatable\n",
    "import numpy as np\n",
    "import torch as th\n",
    "\n",
    "from lib.augmentation import FlowNetAugmentation\n",
    "from lib.datasets.flow.flyingchairs import FlyingChairsTrain, FlyingChairsTest\n",
    "from lib.datasets.flow.flyingthings3d import FlyingThings3DTrain, FlyingThings3DTest\n",
    "from lib.datasets.flow.sintel import SintelTrain, SintelTest, SintelFullTrain\n",
    "from lib.utils import get_checkpoint\n",
    "from lib.flownet import FlowNetC, FlowNetS\n",
    "from lib.vis import np3d, np2d\n",
    "from eval import restore, sample_to_device\n",
    "from lib.metrics import compute_flow_metrics\n"
   ]
  },
  {
   "cell_type": "markdown",
   "id": "adf595b0",
   "metadata": {},
   "source": [
    "## Plotting code"
   ]
  },
  {
   "cell_type": "code",
   "execution_count": null,
   "id": "9ed8b6f7",
   "metadata": {},
   "outputs": [],
   "source": [
    "def add_colorbar(fig, fig_imshow, ax):\n",
    "    \"\"\"Add colorbar to a given figure\"\"\"\n",
    "    divider = make_axes_locatable(ax)\n",
    "    cax = divider.append_axes(\"right\", size=\"5%\", pad=0.05)\n",
    "    fig.colorbar(fig_imshow, cax=cax)\n",
    "\n",
    "\n",
    "def view_image(image, title=\"untitled\", figsize=(10, 10)):\n",
    "    fig = plt.figure(figsize=figsize)\n",
    "    plt.title(title)\n",
    "    fig_imshow = plt.imshow(image)\n",
    "    ax = fig.get_axes()[0]\n",
    "    if image.ndim == 2:\n",
    "        # automatically add a colorbar for data with 2 dimensions (i.e. not RGB)\n",
    "        add_colorbar(fig, fig_imshow, ax)\n",
    "    ax.set_axis_off()\n",
    "    plt.show()\n",
    "\n",
    "\n",
    "def visualize_flow(flow, title=\"untitled\"):\n",
    "    \"\"\"\n",
    "    Based on:\n",
    "        https://stackoverflow.com/questions/28898346/visualize-optical-flow-with-color-model\n",
    "        https://stackoverflow.com/questions/73554127/converting-cartesian-coordinates-to-polar-coordinates-with-numpy\n",
    "    \"\"\"\n",
    "    rgb = np3d(flow, channels=\"FLOW\", text=title)\n",
    "    display(rgb)\n"
   ]
  },
  {
   "cell_type": "markdown",
   "id": "63202294",
   "metadata": {},
   "source": [
    "## Create and view example flow field"
   ]
  },
  {
   "cell_type": "code",
   "execution_count": null,
   "id": "61f8c39a",
   "metadata": {},
   "outputs": [],
   "source": [
    "# create example flow that points away from the center\n",
    "ex_h, ex_w = 50, 100\n",
    "scale = 1\n",
    "us = np.linspace(-ex_w / 2, ex_w / 2 - 1, ex_w) * scale\n",
    "vs = np.linspace(-ex_h / 2, ex_h / 2 - 1, ex_h) * scale\n",
    "u, v = np.meshgrid(us, vs)\n",
    "\n",
    "ex_flow = np.zeros((ex_h, ex_w, 2), dtype=np.float32)\n",
    "ex_flow[..., 0] = u\n",
    "ex_flow[..., 1] = v\n",
    "\n",
    "view_image(ex_flow[..., 0], \"horizontal example flow\", (5, 5))\n",
    "view_image(ex_flow[..., 1], \"vertical example flow\", (5, 5))\n",
    "visualize_flow(ex_flow, \"example flow\")\n"
   ]
  },
  {
   "cell_type": "markdown",
   "id": "facfcdf6",
   "metadata": {},
   "source": [
    "## Create and view train dataset"
   ]
  },
  {
   "cell_type": "code",
   "execution_count": null,
   "id": "5420f442",
   "metadata": {},
   "outputs": [],
   "source": [
    "# fix seed so the augmentation stays the same\n",
    "seed = 1\n",
    "th.manual_seed(seed)\n",
    "np.random.seed(seed)\n",
    "random.seed(seed)\n",
    "\n",
    "\n",
    "def create_train_dataloader(dset_name):\n",
    "    if dset_name == \"FlyingThings3D\":\n",
    "        dataset_cls = FlyingThings3DTrain\n",
    "    elif dset_name == \"FlyingChairs\":\n",
    "        dataset_cls = FlyingChairsTrain\n",
    "    elif dset_name == \"Sintel\":\n",
    "        dataset_cls = SintelTrain\n",
    "    else:\n",
    "        raise ValueError(f\"Unknown dataset: {dset_name}\")\n",
    "    aug_fct = FlowNetAugmentation()\n",
    "    dataloader = dataset_cls.init_as_loader(\n",
    "        batch_size=1,\n",
    "        shuffle=False,\n",
    "        num_workers=0,\n",
    "        pin_memory=False,\n",
    "        drop_last=False,\n",
    "        aug_fcts=aug_fct,\n",
    "    )\n",
    "    return dataloader\n",
    "\n",
    "\n",
    "dataloader = create_train_dataloader(\"Sintel\")\n",
    "train_sample = next(iter(dataloader))\n"
   ]
  },
  {
   "cell_type": "code",
   "execution_count": null,
   "id": "7172e90b",
   "metadata": {},
   "outputs": [],
   "source": [
    "def convert_image_to_numpy(image_torch):\n",
    "    # convert torch (C, H, W) to numpy / matplotlib (H, W, C)\n",
    "    return np.transpose(image_torch.detach().cpu().numpy(), (1, 2, 0))\n",
    "\n",
    "\n",
    "def convert_image_list(image_list, batch_idx=0, overlay=True):\n",
    "    # input is list of [B, 3, H, W]\n",
    "    image_list_nobatch = [image[batch_idx] for image in image_list]\n",
    "    if overlay:\n",
    "        # overlay images on top of each other\n",
    "        images_stacked = (image_list_nobatch[0] + image_list_nobatch[1]) / 2\n",
    "    else:\n",
    "        # stack images vertically\n",
    "        images_stacked = th.cat([image_list_nobatch[0], image_list_nobatch[1]], axis=1)\n",
    "    images_np = convert_image_to_numpy(images_stacked)\n",
    "    return images_np\n",
    "\n",
    "\n",
    "def view_sample(sample, batch_idx=0, overlay=True, view_separate_flow=True):\n",
    "    batch_idx = 0\n",
    "    sample_copy = deepcopy(sample)\n",
    "    print(f\"Meta information\")\n",
    "    for k in list(sample_copy.keys()):\n",
    "        if k[0] == \"_\":\n",
    "            v = sample_copy.pop(k)[batch_idx]\n",
    "            print(f\"    {k}:{v}\")\n",
    "\n",
    "    images = sample_copy.pop(\"images\")\n",
    "    images_np = convert_image_list(images)\n",
    "    images_np += 0.4  # images are in range (-0.4 to 0.6), undo the normalization\n",
    "    view_image(images_np, \"images (augmented)\")\n",
    "\n",
    "    images_spatial = sample_copy.pop(\"images_spatial\")\n",
    "    images_spatial_np = convert_image_list(images_spatial)\n",
    "    images_spatial_np /= 255.0  # images_spatial is in range (0, 255)\n",
    "    view_image(images_spatial_np, \"images_spatial (before color augmentation)\")\n",
    "\n",
    "    gt_flow = sample_copy.pop(\"gt_flow\")  # (B, 2, H, W)\n",
    "    gt_flow_nobatch = gt_flow[batch_idx]\n",
    "    gt_flow_np = convert_image_to_numpy(gt_flow_nobatch)\n",
    "    if view_separate_flow:\n",
    "        view_image(gt_flow_np[..., 0], \"horizontal flow\")\n",
    "        view_image(gt_flow_np[..., 1], \"vertical flow\")\n",
    "    visualize_flow(gt_flow_np, \"optical flow\")\n",
    "\n",
    "\n",
    "view_sample(train_sample)\n"
   ]
  },
  {
   "cell_type": "markdown",
   "id": "bd6afbe9",
   "metadata": {},
   "source": [
    "## Create and view test dataset"
   ]
  },
  {
   "cell_type": "code",
   "execution_count": null,
   "id": "9ff38137",
   "metadata": {},
   "outputs": [],
   "source": [
    "def create_test_dataloader(dset_name):\n",
    "    if dset_name == \"FlyingThings3D\":\n",
    "        dataset_cls = FlyingThings3DTest\n",
    "    elif dset_name == \"FlyingChairs\":\n",
    "        dataset_cls = FlyingChairsTest\n",
    "    elif dset_name == \"Sintel\":\n",
    "        dataset_cls = SintelTest\n",
    "    elif dset_name == \"SintelFull\":\n",
    "        dataset_cls = SintelFullTrain\n",
    "    else:\n",
    "        raise ValueError(f\"Unknown dataset {dset_name}\")\n",
    "\n",
    "    preprocess_fct = FlowNetAugmentation()\n",
    "    preprocess_fct.out_size = (\n",
    "        None  # upscale to next height and width that are divisible by 64\n",
    "    )\n",
    "    preprocess_fct.spatial_aug_prob = 0.0  # only resize, no cropping\n",
    "    preprocess_fct.color_aug_prob = 0.0  # no color augmentation\n",
    "    preprocess_fct.augment_image_only = True  # do not resize the ground truth\n",
    "    dataloader = dataset_cls.init_as_loader(\n",
    "        batch_size=1,\n",
    "        shuffle=False,\n",
    "        num_workers=0,\n",
    "        pin_memory=False,\n",
    "        drop_last=False,\n",
    "        aug_fcts=preprocess_fct,\n",
    "    )\n",
    "    return dataloader\n",
    "\n",
    "\n",
    "test_dataloader = create_test_dataloader(\"Sintel\")\n",
    "test_sample = next(iter(test_dataloader))\n",
    "\n",
    "view_sample(test_sample, view_separate_flow=False)\n"
   ]
  },
  {
   "cell_type": "markdown",
   "id": "41354338",
   "metadata": {},
   "source": [
    "## Load and run model"
   ]
  },
  {
   "cell_type": "code",
   "execution_count": null,
   "id": "e97a2b5a",
   "metadata": {},
   "outputs": [],
   "source": [
    "device = \"cuda\"\n",
    "\n",
    "\n",
    "def setup_model(model_name=\"FlowNetS\", C=48, cuda_corr=False, device=\"cuda\"):\n",
    "    if model_name == \"FlowNetC\":\n",
    "        model = FlowNetC(C=C, cuda_corr=cuda_corr)\n",
    "    elif model_name == \"FlowNetS\":\n",
    "        model = FlowNetS(C=C)\n",
    "    else:\n",
    "        raise ValueError(f\"Unknown model: {model_name}\")\n",
    "    model = model.to(device)\n",
    "    model.eval()\n",
    "\n",
    "    return model\n",
    "\n",
    "\n",
    "model = setup_model(model_name=\"FlowNetS\", device=device)\n",
    "ckpt_path = get_checkpoint(\"pt/flownets\")\n",
    "restore(model, ckpt_path)\n"
   ]
  },
  {
   "cell_type": "code",
   "execution_count": null,
   "id": "3124b313",
   "metadata": {},
   "outputs": [],
   "source": [
    "def run_model(model, sample):\n",
    "    image_list = sample[\"images\"]\n",
    "    image_1 = image_list[0]\n",
    "    image_2 = image_list[1]\n",
    "    model_output_dict = model(image_1, image_2)\n",
    "    return model_output_dict\n",
    "\n",
    "\n",
    "test_sample_device = sample_to_device(test_sample, device)\n",
    "model_output_dict = run_model(model, test_sample_device)\n",
    "model_output_dict.keys()\n"
   ]
  },
  {
   "cell_type": "code",
   "execution_count": null,
   "id": "fee337de",
   "metadata": {},
   "outputs": [],
   "source": [
    "for i, flow in enumerate(model_output_dict[\"pred_flows_all\"]):\n",
    "    flow = flow[0]\n",
    "    flow_np = convert_image_to_numpy(flow)\n",
    "    visualize_flow(flow_np, f\"Flow {i}\")\n"
   ]
  },
  {
   "cell_type": "markdown",
   "id": "e49a47b4",
   "metadata": {},
   "source": [
    "## Compute metrics"
   ]
  },
  {
   "cell_type": "code",
   "execution_count": null,
   "id": "e441d09b",
   "metadata": {},
   "outputs": [],
   "source": [
    "metrics, qualitatives = compute_flow_metrics(test_sample_device, model_output_dict)\n",
    "epe_np = convert_image_to_numpy(qualitatives[\"epe\"][0]).squeeze(-1)\n",
    "scaled_pred_np = convert_image_to_numpy(qualitatives[\"pred_flow\"][0])\n",
    "gt_flow_np = convert_image_to_numpy(test_sample[\"gt_flow\"][0])\n",
    "\n",
    "visualize_flow(gt_flow_np, f\"GT flow\")\n",
    "visualize_flow(scaled_pred_np, f\"Upscaled predicted flow\")\n",
    "view_image(epe_np, f\"Endpoint error: {metrics['aepe']:.3g}\")\n"
   ]
  },
  {
   "cell_type": "code",
   "execution_count": null,
   "id": "2d9e5f04-1ced-4f05-8897-8ad2ff056021",
   "metadata": {},
   "outputs": [],
   "source": []
  },
  {
   "cell_type": "code",
   "execution_count": null,
   "id": "f13ba395-89d0-43f4-9bde-5c1e567d023d",
   "metadata": {},
   "outputs": [],
   "source": []
  },
  {
   "cell_type": "code",
   "execution_count": null,
   "id": "15a259d3-5846-499a-8efa-8b055b72f316",
   "metadata": {},
   "outputs": [],
   "source": []
  },
  {
   "cell_type": "code",
   "execution_count": null,
   "id": "9c37878d-7a3a-414d-9c2b-026d3092caf1",
   "metadata": {},
   "outputs": [],
   "source": []
  }
 ],
 "metadata": {
  "kernelspec": {
   "display_name": "Python 3 (ipykernel)",
   "language": "python",
   "name": "python3"
  },
  "language_info": {
   "codemirror_mode": {
    "name": "ipython",
    "version": 3
   },
   "file_extension": ".py",
   "mimetype": "text/x-python",
   "name": "python",
   "nbconvert_exporter": "python",
   "pygments_lexer": "ipython3",
   "version": "3.10.15"
  }
 },
 "nbformat": 4,
 "nbformat_minor": 5
}